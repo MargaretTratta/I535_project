{
 "cells": [
  {
   "cell_type": "code",
   "execution_count": 9,
   "id": "7e407753",
   "metadata": {},
   "outputs": [
    {
     "data": {
      "text/html": [
       "<div>\n",
       "<style scoped>\n",
       "    .dataframe tbody tr th:only-of-type {\n",
       "        vertical-align: middle;\n",
       "    }\n",
       "\n",
       "    .dataframe tbody tr th {\n",
       "        vertical-align: top;\n",
       "    }\n",
       "\n",
       "    .dataframe thead th {\n",
       "        text-align: right;\n",
       "    }\n",
       "</style>\n",
       "<table border=\"1\" class=\"dataframe\">\n",
       "  <thead>\n",
       "    <tr style=\"text-align: right;\">\n",
       "      <th></th>\n",
       "      <th>ID</th>\n",
       "      <th>TITLE</th>\n",
       "      <th>RELEASE_YEAR</th>\n",
       "      <th>DIRECTOR_NAME</th>\n",
       "      <th>PRODUCER_NAME</th>\n",
       "      <th>STUDIO</th>\n",
       "      <th>notes_one</th>\n",
       "      <th>GENRE</th>\n",
       "      <th>additional_notes</th>\n",
       "    </tr>\n",
       "  </thead>\n",
       "  <tbody>\n",
       "    <tr>\n",
       "      <th>0</th>\n",
       "      <td>H2</td>\n",
       "      <td>Number Thirteen</td>\n",
       "      <td>1922</td>\n",
       "      <td>D:Hitchcock</td>\n",
       "      <td>P:Hitchcock</td>\n",
       "      <td>St:Islington; SD:Famous</td>\n",
       "      <td>sbw</td>\n",
       "      <td>NaN</td>\n",
       "      <td>NaN</td>\n",
       "    </tr>\n",
       "    <tr>\n",
       "      <th>1</th>\n",
       "      <td>H3</td>\n",
       "      <td>Woman to Woman</td>\n",
       "      <td>1922</td>\n",
       "      <td>D:Hitchcock</td>\n",
       "      <td>P:Balcon</td>\n",
       "      <td>St:B-S-F; SD:Wardour</td>\n",
       "      <td>sbw</td>\n",
       "      <td>Dram</td>\n",
       "      <td>NaN</td>\n",
       "    </tr>\n",
       "    <tr>\n",
       "      <th>2</th>\n",
       "      <td>H4</td>\n",
       "      <td>The Passionate Adventure</td>\n",
       "      <td>1924</td>\n",
       "      <td>D:Hitchcock</td>\n",
       "      <td>P:Balcon</td>\n",
       "      <td>St:Gainsborough; SD:GaumontD</td>\n",
       "      <td>sbw</td>\n",
       "      <td>NaN</td>\n",
       "      <td>NaN</td>\n",
       "    </tr>\n",
       "    <tr>\n",
       "      <th>3</th>\n",
       "      <td>H5</td>\n",
       "      <td>The Blackguard</td>\n",
       "      <td>1925</td>\n",
       "      <td>D:Hitchcock</td>\n",
       "      <td>P:Balcon</td>\n",
       "      <td>St:UFA; SD:Wardour</td>\n",
       "      <td>sbw</td>\n",
       "      <td>NaN</td>\n",
       "      <td>NaN</td>\n",
       "    </tr>\n",
       "    <tr>\n",
       "      <th>4</th>\n",
       "      <td>H7</td>\n",
       "      <td>The Pleasure Garden</td>\n",
       "      <td>1925</td>\n",
       "      <td>D:Hitchcock</td>\n",
       "      <td>P:Balcon</td>\n",
       "      <td>St:Gainsborough and Emelka; SD:Wardour</td>\n",
       "      <td>sbw</td>\n",
       "      <td>Dram</td>\n",
       "      <td>H</td>\n",
       "    </tr>\n",
       "  </tbody>\n",
       "</table>\n",
       "</div>"
      ],
      "text/plain": [
       "   ID                     TITLE RELEASE_YEAR DIRECTOR_NAME PRODUCER_NAME  \\\n",
       "0  H2           Number Thirteen         1922   D:Hitchcock   P:Hitchcock   \n",
       "1  H3            Woman to Woman         1922   D:Hitchcock      P:Balcon   \n",
       "2  H4  The Passionate Adventure         1924   D:Hitchcock      P:Balcon   \n",
       "3  H5            The Blackguard         1925   D:Hitchcock      P:Balcon   \n",
       "4  H7       The Pleasure Garden         1925   D:Hitchcock      P:Balcon   \n",
       "\n",
       "                                   STUDIO notes_one GENRE additional_notes  \n",
       "0                 St:Islington; SD:Famous       sbw   NaN              NaN  \n",
       "1                    St:B-S-F; SD:Wardour       sbw  Dram              NaN  \n",
       "2            St:Gainsborough; SD:GaumontD       sbw   NaN              NaN  \n",
       "3                      St:UFA; SD:Wardour       sbw   NaN              NaN  \n",
       "4  St:Gainsborough and Emelka; SD:Wardour       sbw  Dram                H  "
      ]
     },
     "execution_count": 9,
     "metadata": {},
     "output_type": "execute_result"
    }
   ],
   "source": [
    "#import main table to data frame\n",
    "import pandas as pd\n",
    "\n",
    "\n",
    "main_df = pd.read_csv(\"main_ready.csv\")\n",
    "\n"
   ]
  },
  {
   "cell_type": "code",
   "execution_count": 19,
   "id": "fd8bb7dc",
   "metadata": {},
   "outputs": [
    {
     "name": "stdout",
     "output_type": "stream",
     "text": [
      "11467\n"
     ]
    }
   ],
   "source": [
    "print(len(main_df['ID']))"
   ]
  },
  {
   "cell_type": "code",
   "execution_count": 23,
   "id": "8f1992d1",
   "metadata": {},
   "outputs": [
    {
     "name": "stdout",
     "output_type": "stream",
     "text": [
      "11413\n"
     ]
    }
   ],
   "source": [
    "# remove rows with duplicate IDs\n",
    "main_df = main_df.drop_duplicates(subset=['ID'])\n",
    "print(len(main_df['ID']))"
   ]
  },
  {
   "cell_type": "code",
   "execution_count": 24,
   "id": "124d7d6e",
   "metadata": {},
   "outputs": [],
   "source": [
    "#add column for just director_id and strip numbers from movie id\n",
    "import string\n",
    "main_df['DIRECTOR_ID']= main_df['ID'].str.rstrip(string.digits)\n"
   ]
  },
  {
   "cell_type": "code",
   "execution_count": 25,
   "id": "aeba6398",
   "metadata": {},
   "outputs": [],
   "source": [
    "#drop redundant columns and move directed_by relationship to new df\n",
    "\n",
    "main_to_keep = main_df[['ID', 'TITLE', 'RELEASE_YEAR', 'PRODUCER_NAME', 'STUDIO', 'GENRE']]\n",
    "\n",
    "directed_by_to_keep = main_df[['ID', 'DIRECTOR_ID']]\n"
   ]
  },
  {
   "cell_type": "code",
   "execution_count": 26,
   "id": "2e587508",
   "metadata": {},
   "outputs": [],
   "source": [
    "# and save\n",
    "main_to_keep.to_csv('main_clean.csv')\n",
    "directed_by_to_keep.to_csv('directed_by_clean.csv')"
   ]
  },
  {
   "cell_type": "code",
   "execution_count": null,
   "id": "beff6213",
   "metadata": {},
   "outputs": [],
   "source": []
  }
 ],
 "metadata": {
  "kernelspec": {
   "display_name": "Python 3 (ipykernel)",
   "language": "python",
   "name": "python3"
  },
  "language_info": {
   "codemirror_mode": {
    "name": "ipython",
    "version": 3
   },
   "file_extension": ".py",
   "mimetype": "text/x-python",
   "name": "python",
   "nbconvert_exporter": "python",
   "pygments_lexer": "ipython3",
   "version": "3.9.12"
  }
 },
 "nbformat": 4,
 "nbformat_minor": 5
}
