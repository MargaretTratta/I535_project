{
 "cells": [
  {
   "cell_type": "code",
   "execution_count": 2,
   "id": "77afa771",
   "metadata": {},
   "outputs": [],
   "source": [
    "# import libraries and data\n",
    "import pandas as pd\n",
    "\n",
    "\n",
    "people_df = pd.read_csv(\"people_ready.csv\")"
   ]
  },
  {
   "cell_type": "code",
   "execution_count": 3,
   "id": "bc1f5423",
   "metadata": {},
   "outputs": [
    {
     "data": {
      "text/html": [
       "<div>\n",
       "<style scoped>\n",
       "    .dataframe tbody tr th:only-of-type {\n",
       "        vertical-align: middle;\n",
       "    }\n",
       "\n",
       "    .dataframe tbody tr th {\n",
       "        vertical-align: top;\n",
       "    }\n",
       "\n",
       "    .dataframe thead th {\n",
       "        text-align: right;\n",
       "    }\n",
       "</style>\n",
       "<table border=\"1\" class=\"dataframe\">\n",
       "  <thead>\n",
       "    <tr style=\"text-align: right;\">\n",
       "      <th></th>\n",
       "      <th>DIRECTOR_NAME</th>\n",
       "      <th>INVOLVEMENT</th>\n",
       "      <th>DIR_ID</th>\n",
       "      <th>YEARS_ACTIVE</th>\n",
       "      <th>LAST_NAME</th>\n",
       "      <th>FIRST NAME</th>\n",
       "      <th>NOTES_1</th>\n",
       "      <th>NOTES_2</th>\n",
       "    </tr>\n",
       "  </thead>\n",
       "  <tbody>\n",
       "    <tr>\n",
       "      <th>0</th>\n",
       "      <td>Abel</td>\n",
       "      <td>DPW</td>\n",
       "      <td>JeA</td>\n",
       "      <td>@1971</td>\n",
       "      <td>Abel</td>\n",
       "      <td>Jeanne</td>\n",
       "      <td>NaN</td>\n",
       "      <td>Un</td>\n",
       "    </tr>\n",
       "    <tr>\n",
       "      <th>1</th>\n",
       "      <td>Abbott</td>\n",
       "      <td>AWDP</td>\n",
       "      <td>GgA</td>\n",
       "      <td>@1929-1958</td>\n",
       "      <td>Abbott</td>\n",
       "      <td>George</td>\n",
       "      <td>1887</td>\n",
       "      <td>Un</td>\n",
       "    </tr>\n",
       "    <tr>\n",
       "      <th>2</th>\n",
       "      <td>Abrahams</td>\n",
       "      <td>WD</td>\n",
       "      <td>xAb</td>\n",
       "      <td>@1948</td>\n",
       "      <td>Abrahams</td>\n",
       "      <td>NaN</td>\n",
       "      <td>[1]</td>\n",
       "      <td>Un</td>\n",
       "    </tr>\n",
       "    <tr>\n",
       "      <th>3</th>\n",
       "      <td>J.Abrahams</td>\n",
       "      <td>WD</td>\n",
       "      <td>JiA</td>\n",
       "      <td>@1980-1988</td>\n",
       "      <td>Abrahams</td>\n",
       "      <td>Jim</td>\n",
       "      <td>NaN</td>\n",
       "      <td>Un</td>\n",
       "    </tr>\n",
       "    <tr>\n",
       "      <th>4</th>\n",
       "      <td>Jeffrey Abrams</td>\n",
       "      <td>W</td>\n",
       "      <td>NaN</td>\n",
       "      <td>@1991-1992</td>\n",
       "      <td>Abrams</td>\n",
       "      <td>Jeffrey</td>\n",
       "      <td>1967</td>\n",
       "      <td>Un</td>\n",
       "    </tr>\n",
       "  </tbody>\n",
       "</table>\n",
       "</div>"
      ],
      "text/plain": [
       "    DIRECTOR_NAME INVOLVEMENT DIR_ID YEARS_ACTIVE LAST_NAME FIRST NAME  \\\n",
       "0            Abel         DPW    JeA        @1971      Abel     Jeanne   \n",
       "1          Abbott        AWDP    GgA   @1929-1958    Abbott     George   \n",
       "2        Abrahams          WD    xAb        @1948  Abrahams        NaN   \n",
       "3      J.Abrahams          WD    JiA   @1980-1988  Abrahams        Jim   \n",
       "4  Jeffrey Abrams           W    NaN   @1991-1992    Abrams    Jeffrey   \n",
       "\n",
       "  NOTES_1 NOTES_2  \n",
       "0     NaN      Un  \n",
       "1    1887      Un  \n",
       "2     [1]      Un  \n",
       "3     NaN      Un  \n",
       "4    1967      Un  "
      ]
     },
     "execution_count": 3,
     "metadata": {},
     "output_type": "execute_result"
    }
   ],
   "source": [
    "people_df.head()"
   ]
  },
  {
   "cell_type": "code",
   "execution_count": 5,
   "id": "2e1230c2",
   "metadata": {},
   "outputs": [
    {
     "data": {
      "text/plain": [
       "3313"
      ]
     },
     "execution_count": 5,
     "metadata": {},
     "output_type": "execute_result"
    }
   ],
   "source": [
    "len(people_df['DIR_ID'])"
   ]
  },
  {
   "cell_type": "code",
   "execution_count": 7,
   "id": "00294eaa",
   "metadata": {},
   "outputs": [
    {
     "name": "stdout",
     "output_type": "stream",
     "text": [
      "2975\n"
     ]
    }
   ],
   "source": [
    "# remove rows with duplicate IDs\n",
    "people_df = people_df.drop_duplicates(subset=['DIR_ID'])\n",
    "print(len(people_df['DIR_ID']))"
   ]
  },
  {
   "cell_type": "code",
   "execution_count": 8,
   "id": "5022bc46",
   "metadata": {},
   "outputs": [
    {
     "data": {
      "text/html": [
       "<div>\n",
       "<style scoped>\n",
       "    .dataframe tbody tr th:only-of-type {\n",
       "        vertical-align: middle;\n",
       "    }\n",
       "\n",
       "    .dataframe tbody tr th {\n",
       "        vertical-align: top;\n",
       "    }\n",
       "\n",
       "    .dataframe thead th {\n",
       "        text-align: right;\n",
       "    }\n",
       "</style>\n",
       "<table border=\"1\" class=\"dataframe\">\n",
       "  <thead>\n",
       "    <tr style=\"text-align: right;\">\n",
       "      <th></th>\n",
       "      <th>DIRECTOR_NAME</th>\n",
       "      <th>INVOLVEMENT</th>\n",
       "      <th>DIR_ID</th>\n",
       "      <th>YEARS_ACTIVE</th>\n",
       "      <th>LAST_NAME</th>\n",
       "      <th>FIRST NAME</th>\n",
       "      <th>NOTES_1</th>\n",
       "      <th>NOTES_2</th>\n",
       "    </tr>\n",
       "  </thead>\n",
       "  <tbody>\n",
       "    <tr>\n",
       "      <th>0</th>\n",
       "      <td>Abel</td>\n",
       "      <td>DPW</td>\n",
       "      <td>JeA</td>\n",
       "      <td>1971</td>\n",
       "      <td>Abel</td>\n",
       "      <td>Jeanne</td>\n",
       "      <td>NaN</td>\n",
       "      <td>Un</td>\n",
       "    </tr>\n",
       "    <tr>\n",
       "      <th>1</th>\n",
       "      <td>Abbott</td>\n",
       "      <td>AWDP</td>\n",
       "      <td>GgA</td>\n",
       "      <td>1929-1958</td>\n",
       "      <td>Abbott</td>\n",
       "      <td>George</td>\n",
       "      <td>1887</td>\n",
       "      <td>Un</td>\n",
       "    </tr>\n",
       "    <tr>\n",
       "      <th>2</th>\n",
       "      <td>Abrahams</td>\n",
       "      <td>WD</td>\n",
       "      <td>xAb</td>\n",
       "      <td>1948</td>\n",
       "      <td>Abrahams</td>\n",
       "      <td>NaN</td>\n",
       "      <td>[1]</td>\n",
       "      <td>Un</td>\n",
       "    </tr>\n",
       "    <tr>\n",
       "      <th>3</th>\n",
       "      <td>J.Abrahams</td>\n",
       "      <td>WD</td>\n",
       "      <td>JiA</td>\n",
       "      <td>1980-1988</td>\n",
       "      <td>Abrahams</td>\n",
       "      <td>Jim</td>\n",
       "      <td>NaN</td>\n",
       "      <td>Un</td>\n",
       "    </tr>\n",
       "    <tr>\n",
       "      <th>4</th>\n",
       "      <td>Jeffrey Abrams</td>\n",
       "      <td>W</td>\n",
       "      <td>NaN</td>\n",
       "      <td>1991-1992</td>\n",
       "      <td>Abrams</td>\n",
       "      <td>Jeffrey</td>\n",
       "      <td>1967</td>\n",
       "      <td>Un</td>\n",
       "    </tr>\n",
       "  </tbody>\n",
       "</table>\n",
       "</div>"
      ],
      "text/plain": [
       "    DIRECTOR_NAME INVOLVEMENT DIR_ID YEARS_ACTIVE LAST_NAME FIRST NAME  \\\n",
       "0            Abel         DPW    JeA         1971      Abel     Jeanne   \n",
       "1          Abbott        AWDP    GgA    1929-1958    Abbott     George   \n",
       "2        Abrahams          WD    xAb         1948  Abrahams        NaN   \n",
       "3      J.Abrahams          WD    JiA    1980-1988  Abrahams        Jim   \n",
       "4  Jeffrey Abrams           W    NaN    1991-1992    Abrams    Jeffrey   \n",
       "\n",
       "  NOTES_1 NOTES_2  \n",
       "0     NaN      Un  \n",
       "1    1887      Un  \n",
       "2     [1]      Un  \n",
       "3     NaN      Un  \n",
       "4    1967      Un  "
      ]
     },
     "execution_count": 8,
     "metadata": {},
     "output_type": "execute_result"
    }
   ],
   "source": [
    "# oh, that was more duplicates than I had anticipated...\n",
    "# let's lose the @ from years_active\n",
    "people_df['YEARS_ACTIVE'] = people_df['YEARS_ACTIVE'].str.strip('@')\n",
    "people_df.head()"
   ]
  },
  {
   "cell_type": "code",
   "execution_count": 10,
   "id": "3e8caf3c",
   "metadata": {},
   "outputs": [],
   "source": [
    "# ditch the notes columns and save\n",
    "people_to_keep = main_to_keep = people_df[['DIR_ID', 'DIRECTOR_NAME', 'YEARS_ACTIVE', 'LAST_NAME', 'FIRST NAME', 'INVOLVEMENT']]\n",
    "people_to_keep.to_csv('people_clean.csv')\n"
   ]
  },
  {
   "cell_type": "code",
   "execution_count": null,
   "id": "1dfbdb6c",
   "metadata": {},
   "outputs": [],
   "source": []
  }
 ],
 "metadata": {
  "kernelspec": {
   "display_name": "Python 3 (ipykernel)",
   "language": "python",
   "name": "python3"
  },
  "language_info": {
   "codemirror_mode": {
    "name": "ipython",
    "version": 3
   },
   "file_extension": ".py",
   "mimetype": "text/x-python",
   "name": "python",
   "nbconvert_exporter": "python",
   "pygments_lexer": "ipython3",
   "version": "3.9.12"
  }
 },
 "nbformat": 4,
 "nbformat_minor": 5
}
