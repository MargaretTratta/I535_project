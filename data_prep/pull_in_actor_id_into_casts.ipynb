{
 "cells": [
  {
   "cell_type": "code",
   "execution_count": null,
   "id": "9230058e",
   "metadata": {},
   "outputs": [],
   "source": [
    "pd.merge(frame_1, frame_2, left_on='county_ID', right_on='countyid')"
   ]
  },
  {
   "cell_type": "code",
   "execution_count": 5,
   "id": "a4a52071",
   "metadata": {},
   "outputs": [],
   "source": [
    "#import libraries and tables\n",
    "import pandas as pd\n",
    "\n",
    "actors_df = pd.read_csv(\"actors_clean.csv\")\n",
    "name_id = actors_df[['ACTOR_ID', 'STAGE_NAME']] # only keep the actor_id and stage name for merge\n",
    "\n",
    "casts_df = pd.read_csv('casts_ready.csv')\n"
   ]
  },
  {
   "cell_type": "code",
   "execution_count": 10,
   "id": "97efb0a9",
   "metadata": {},
   "outputs": [],
   "source": [
    "#merge\n",
    "merged_df = pd.merge(casts_df, name_id, left_on='ACTOR', right_on='STAGE_NAME')"
   ]
  },
  {
   "cell_type": "code",
   "execution_count": 11,
   "id": "ddfbece5",
   "metadata": {},
   "outputs": [],
   "source": [
    "# keep  non-redundant columns\n",
    "casts_to_keep = merged_df[['MOVIE_ID', 'ACTOR_ID', 'ROLE_TYPE', 'ROLE']]"
   ]
  },
  {
   "cell_type": "code",
   "execution_count": 12,
   "id": "a1276b44",
   "metadata": {},
   "outputs": [
    {
     "data": {
      "text/html": [
       "<div>\n",
       "<style scoped>\n",
       "    .dataframe tbody tr th:only-of-type {\n",
       "        vertical-align: middle;\n",
       "    }\n",
       "\n",
       "    .dataframe tbody tr th {\n",
       "        vertical-align: top;\n",
       "    }\n",
       "\n",
       "    .dataframe thead th {\n",
       "        text-align: right;\n",
       "    }\n",
       "</style>\n",
       "<table border=\"1\" class=\"dataframe\">\n",
       "  <thead>\n",
       "    <tr style=\"text-align: right;\">\n",
       "      <th></th>\n",
       "      <th>MOVIE_ID</th>\n",
       "      <th>ACTOR_ID</th>\n",
       "      <th>ROLE_TYPE</th>\n",
       "      <th>ROLE</th>\n",
       "    </tr>\n",
       "  </thead>\n",
       "  <tbody>\n",
       "    <tr>\n",
       "      <th>0</th>\n",
       "      <td>AA13</td>\n",
       "      <td>2782</td>\n",
       "      <td>Inn</td>\n",
       "      <td>R:flower girl \"Eliza\"</td>\n",
       "    </tr>\n",
       "    <tr>\n",
       "      <th>1</th>\n",
       "      <td>ArH218</td>\n",
       "      <td>2782</td>\n",
       "      <td>Und</td>\n",
       "      <td>RU:</td>\n",
       "    </tr>\n",
       "    <tr>\n",
       "      <th>2</th>\n",
       "      <td>CR19</td>\n",
       "      <td>2782</td>\n",
       "      <td>Und</td>\n",
       "      <td>R:planter's wife</td>\n",
       "    </tr>\n",
       "    <tr>\n",
       "      <th>3</th>\n",
       "      <td>DeM20</td>\n",
       "      <td>2782</td>\n",
       "      <td>Und</td>\n",
       "      <td>RU:</td>\n",
       "    </tr>\n",
       "    <tr>\n",
       "      <th>4</th>\n",
       "      <td>DLy2</td>\n",
       "      <td>2782</td>\n",
       "      <td>Und</td>\n",
       "      <td>RU:</td>\n",
       "    </tr>\n",
       "  </tbody>\n",
       "</table>\n",
       "</div>"
      ],
      "text/plain": [
       "  MOVIE_ID  ACTOR_ID ROLE_TYPE                   ROLE\n",
       "0     AA13      2782       Inn  R:flower girl \"Eliza\"\n",
       "1   ArH218      2782       Und                    RU:\n",
       "2     CR19      2782       Und       R:planter's wife\n",
       "3    DeM20      2782       Und                    RU:\n",
       "4     DLy2      2782       Und                    RU:"
      ]
     },
     "execution_count": 12,
     "metadata": {},
     "output_type": "execute_result"
    }
   ],
   "source": [
    "casts_to_keep.head()"
   ]
  },
  {
   "cell_type": "code",
   "execution_count": 13,
   "id": "6014fe8c",
   "metadata": {},
   "outputs": [],
   "source": [
    "#save\n",
    "casts_to_keep.to_csv('casts_clean.csv')"
   ]
  },
  {
   "cell_type": "code",
   "execution_count": null,
   "id": "180ab36d",
   "metadata": {},
   "outputs": [],
   "source": []
  }
 ],
 "metadata": {
  "kernelspec": {
   "display_name": "Python 3 (ipykernel)",
   "language": "python",
   "name": "python3"
  },
  "language_info": {
   "codemirror_mode": {
    "name": "ipython",
    "version": 3
   },
   "file_extension": ".py",
   "mimetype": "text/x-python",
   "name": "python",
   "nbconvert_exporter": "python",
   "pygments_lexer": "ipython3",
   "version": "3.9.12"
  }
 },
 "nbformat": 4,
 "nbformat_minor": 5
}
